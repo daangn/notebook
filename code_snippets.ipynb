{
  "nbformat": 4,
  "nbformat_minor": 0,
  "metadata": {
    "colab": {
      "name": "code_snippets.ipynb",
      "version": "0.3.2",
      "provenance": [],
      "toc_visible": true
    },
    "kernelspec": {
      "name": "python3",
      "display_name": "Python 3"
    }
  },
  "cells": [
    {
      "cell_type": "markdown",
      "metadata": {
        "id": "view-in-github",
        "colab_type": "text"
      },
      "source": [
        "[View in Colaboratory](https://colab.research.google.com/github/muik/notebooks/blob/master/code_snippets.ipynb)"
      ]
    },
    {
      "metadata": {
        "id": "B8EOVQdcQGmP",
        "colab_type": "text"
      },
      "cell_type": "markdown",
      "source": [
        "# Code Snippets"
      ]
    },
    {
      "metadata": {
        "id": "v_dSLZOIwS_4",
        "colab_type": "text"
      },
      "cell_type": "markdown",
      "source": [
        "## Install"
      ]
    },
    {
      "metadata": {
        "id": "gWrwi0p0QBVe",
        "colab_type": "text"
      },
      "cell_type": "markdown",
      "source": [
        "### fastText binary"
      ]
    },
    {
      "metadata": {
        "id": "2tAtDfses2He",
        "colab_type": "code",
        "colab": {}
      },
      "cell_type": "code",
      "source": [
        "%%bash\n",
        "\n",
        "if [ ! -d \"/fastText\" ]; then\n",
        "  wget -q https://github.com/facebookresearch/fastText/archive/master.zip && \\\n",
        "    unzip -q master.zip && rm master.zip && mv fastText-master /fastText\n",
        "fi\n",
        "\n",
        "apt-get -qq install cmake\n",
        "cd /fastText && mkdir -p build && cd build && cmake .. > /dev/null && make > /dev/null && make install > /dev/null\n",
        "export PATH=\"${PATH}:/fastText/build\""
      ],
      "execution_count": 0,
      "outputs": []
    },
    {
      "metadata": {
        "id": "wF9cm14RwM5H",
        "colab_type": "text"
      },
      "cell_type": "markdown",
      "source": [
        "## Setting\n"
      ]
    },
    {
      "metadata": {
        "id": "RVgY4I1pwwOg",
        "colab_type": "text"
      },
      "cell_type": "markdown",
      "source": [
        "### 한글 폰트"
      ]
    },
    {
      "metadata": {
        "id": "b_RwHqX9tqMm",
        "colab_type": "code",
        "colab": {}
      },
      "cell_type": "code",
      "source": [
        "# 노트북 한글 폰트 설정\n",
        "!apt-get install -q fonts-nanum\n",
        "\n",
        "from matplotlib import font_manager, rc\n",
        "font_dirs = ['/usr/share/fonts/truetype/nanum']\n",
        "font_files = font_manager.findSystemFonts(fontpaths=font_dirs)\n",
        "font_list = font_manager.createFontList(font_files)\n",
        "font_manager.fontManager.ttflist.extend(font_list)\n",
        "rc('font', family='NanumGothic')"
      ],
      "execution_count": 0,
      "outputs": []
    }
  ]
}